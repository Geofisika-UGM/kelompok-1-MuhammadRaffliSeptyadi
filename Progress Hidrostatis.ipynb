{
 "cells": [
  {
   "cell_type": "markdown",
   "metadata": {},
   "source": [
    "Kalo edit di file lain dulu, jangan upload manual lewat web"
   ]
  },
  {
   "cell_type": "code",
   "execution_count": 1,
   "metadata": {},
   "outputs": [
    {
     "name": "stdout",
     "output_type": "stream",
     "text": [
      "882.0\n"
     ]
    }
   ],
   "source": [
    "rho= float(input('masukan rho :'))\n",
    "h= float(input('masukan kedalaman (dalam meter) :'))\n",
    "g=9.8\n",
    "hdr=rho*g*h\n",
    "print(hdr)"
   ]
  },
  {
   "cell_type": "markdown",
   "metadata": {},
   "source": []
  },
  {
   "cell_type": "markdown",
   "metadata": {},
   "source": [
    "ClI argparse"
   ]
  },
  {
   "cell_type": "code",
   "execution_count": null,
   "metadata": {},
   "outputs": [],
   "source": [
    "import argparse\n",
    "import sys\n",
    "\n",
    "def main():\n",
    "    parser = argparse.ArgumentParser()\n",
    "    parser.add_argument('--r', type=float, default=0.0,\n",
    "                        help='Massa jenis zat cair?')\n",
    "    parser.add_argument('--g', type=float, default=9.8,\n",
    "                        help='Gravitasi ?')\n",
    "    parser.add_argument('--h', type=float, default=0.0,\n",
    "                        help='Kedalaman?')\n",
    "    parser.add_argument('--op', type=str, default=\"null\",\n",
    "                        help='Menghitung tekanan hidrostatis (hd) ')\n",
    "    args = parser.parse_args()\n",
    "    sys.stdout.write(str(calc(args)))\n",
    "\n",
    "def calc(args):\n",
    "    if args.op == 'null':\n",
    "        x = 'Masukan operasi yang akan dilakukan'\n",
    "        return x\n",
    "    if args.op == 'hd':\n",
    "        hd=args.r * args.g * args.h\n",
    "        return hd\n",
    "\n",
    "if __name__ == '__main__':\n",
    "    main()"
   ]
  },
  {
   "cell_type": "markdown",
   "metadata": {},
   "source": [
    "GUI jangan di otak atik, bisa di copas terus otak atik di file lain"
   ]
  },
  {
   "cell_type": "code",
   "execution_count": 1,
   "metadata": {},
   "outputs": [],
   "source": [
    "from tkinter import *\n",
    "import tkinter.font\n",
    "from tkinter import Tk, Canvas, Frame, BOTH\n",
    "from hidrostatis import hdr\n",
    "from matplotlib.figure import Figure\n",
    "from matplotlib.backends.backend_tkagg import (FigureCanvasTkAgg, \n",
    "NavigationToolbar2Tk)\n",
    "\n",
    "\n",
    "root = Tk()\n",
    "root.geometry(\"500x500\")\n",
    "\n",
    "labelfr = LabelFrame(root,text=\"result\",padx=20,pady=20)\n",
    "labelfr.place(x=60,y=380)\n",
    "\n",
    "x = Label(root,text = \"Masukan rho\")\n",
    "h = Label(root,text = \" Masukan kedalaman bocor(dalam meter)\")\n",
    "m=  Label(root,text = \"kedalaman asli tabung\")\n",
    "e1 = Entry(root,width=20)\n",
    "e2 = Entry(root,width=20)\n",
    "e3 = Entry(root,width=20)\n",
    "x.place(x = 20, y = 50)\n",
    "e1.place(x = 20, y = 70)\n",
    "h.place(x = 150, y = 50)\n",
    "e2.place(x = 150, y = 70)\n",
    "m.place(x = 280, y = 50)\n",
    "e3.place(x = 280, y = 70)\n",
    "\n",
    "def plot():\n",
    "    r=float(e1.get())\n",
    "    h=float(e2.get())\n",
    "    hdr(r,h)\n",
    "    fig = Figure(figsize = (5, 5),\n",
    "                 dpi = 100)\n",
    "    plot1 = fig.add_subplot(111)\n",
    "    \n",
    "\n",
    "    canvas = FigureCanvasTkAgg(fig,\n",
    "                               master = root)  \n",
    "    canvas.draw()\n",
    "    canvas.get_tk_widget().pack()\n",
    "    toolbar = NavigationToolbar2Tk(canvas,\n",
    "                                   root)\n",
    "    toolbar.update()\n",
    "    canvas.get_tk_widget().pack()\n",
    "\n",
    "\n",
    "root.title('Plotting garis dengan cos dan sin ')\n",
    "plot_button = Button(master = root, \n",
    "                     command = plot,\n",
    "                     height = 2, \n",
    "                     width = 10,\n",
    "                     text = \"buat skema\")\n",
    "plot_button.place(x = 100, y = 90)\n",
    "root.mainloop()\n"
   ]
  },
  {
   "cell_type": "markdown",
   "metadata": {},
   "source": [
    "Nyoba plot tanpa numpy"
   ]
  },
  {
   "cell_type": "code",
   "execution_count": 8,
   "metadata": {},
   "outputs": [
    {
     "data": {
      "text/plain": [
       "[<matplotlib.lines.Line2D at 0x148584f8f70>]"
      ]
     },
     "execution_count": 8,
     "metadata": {},
     "output_type": "execute_result"
    },
    {
     "data": {
      "image/png": "[encoded data removed]",
      "text/plain": [
       "<Figure size 640x480 with 1 Axes>"
      ]
     },
     "metadata": {},
     "output_type": "display_data"
    }
   ],
   "source": [
    "import matplotlib.pylab as plt\n",
    "x=[]\n",
    "x1=[]\n",
    "x2=[]\n",
    "y=[]\n",
    "y1=[]\n",
    "y2=[]\n",
    "\n",
    "for i in range(100,151):\n",
    "    x.append(i)\n",
    "for i in range(100,201):\n",
    "    x1.append(100)\n",
    "for i in range(100,201):\n",
    "    x2.append(150)\n",
    "for i in range(100,201):\n",
    "    y.append(i)\n",
    "for i in range(100,151):\n",
    "    y1.append(100)\n",
    "for i in range(100,151):\n",
    "    y2.append(200)\n",
    "\n",
    "plt.plot(x,y1,'b')\n",
    "plt.plot(x,y2,'b')\n",
    "plt.plot(x1,y,'b')\n",
    "plt.plot(x2,y,'b')"
   ]
  }
 ],
 "metadata": {
  "kernelspec": {
   "display_name": "envcourse",
   "language": "python",
   "name": "python3"
  },
  "language_info": {
   "codemirror_mode": {
    "name": "ipython",
    "version": 3
   },
   "file_extension": ".py",
   "mimetype": "text/x-python",
   "name": "python",
   "nbconvert_exporter": "python",
   "pygments_lexer": "ipython3",
   "version": "3.10.5"
  },
  "orig_nbformat": 4,
  "vscode": {
   "interpreter": {
    "hash": "a98ffb1dfcfd00887e31578d3375265d8af5bb96304fb01e643683226af5d1e7"
   }
  }
 },
 "nbformat": 4,
 "nbformat_minor": 2
}

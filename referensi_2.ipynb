{
 "cells": [
  {
   "cell_type": "markdown",
   "metadata": {},
   "source": [
    "### Referensi Code buat visualisasi gelas bocornya"
   ]
  },
  {
   "cell_type": "code",
   "execution_count": 1,
   "metadata": {},
   "outputs": [
    {
     "ename": "",
     "evalue": "",
     "output_type": "error",
     "traceback": [
      "The Kernel crashed while executing code in the the current cell or a previous cell. Please review the code in the cell(s) to identify a possible cause of the failure. Click <a href='https://aka.ms/vscodeJupyterKernelCrash'>here</a> for more info. View Jupyter <a href='command:jupyter.viewOutput'>log</a> for further details."
     ]
    }
   ],
   "source": [
    "import turtle\n",
    "\n",
    "win = turtle.Screen()\n",
    "win.bgcolor(\"light green\")\n",
    "win.title(\"Belajar Turtle\")\n",
    "win.setup(width=600, height=600)\n",
    "\n",
    "t = turtle.Turtle()\n",
    "t.pensize(5)\n",
    "for i in range(5):\n",
    "    if i % 2 == 0: # jika i adalah genap, maka warna turtle adalah biru, jika ganjil maka kuning\n",
    "        t.color(\"blue\")\n",
    "    else:\n",
    "        t.color(\"yellow\")\n",
    "    t.circle(20)\n",
    "    t.penup()\n",
    "    t.forward(30)\n",
    "    t.pendown()"
   ]
  },
  {
   "cell_type": "markdown",
   "metadata": {},
   "source": [
    "##### Warna Turtle¶\n",
    "Warna pada turtle terdiri dari dua bagian yaitu pencolor dan fillcolor.\n",
    "\n",
    "pencolor(<warna>) mengeset warna pada garis yang dilewati sedangkan\n",
    "\n",
    "fillcolor(<warna>) mengeset warna pada bagian tertutup yang terbentuk dari pergerakan turtle\n",
    "\n",
    "sementara <turtle>.color(<warna>) akan mengeset pencolor dan fillcolor dengan warna yang sama.\n",
    "\n",
    "untuk mewarnai bagian tertutup, maka harus diawali perintah <turtle>.begin_fill() dan di akhiri dengan perintah <turtle>.end_fill().\n",
    "\n",
    ">>> t.reset()\n",
    ">>> t.pencolor(\"blue\")\n",
    ">>> t.forward(50)\n",
    ">>> t.fillcolor(\"yellow\")\n",
    ">>> t.begin_fill()\n",
    ">>> t.circle(50)\n",
    ">>> t.end_fill()\n",
    "\n",
    "pen up tinta ilang, pen down tinta muncul lagi. Kalo mau berwarna pake .color"
   ]
  },
  {
   "cell_type": "code",
   "execution_count": null,
   "metadata": {},
   "outputs": [],
   "source": [
    "# ini bagian gambar gelas bocornya, ada yang pake kode referensi di atas.\n",
    "    x=6\n",
    "    t.pensize(2)\n",
    "    t.pencolor('black')  #bagian ini pake warna pen item jadi nanti garisnya item\n",
    "    t.fillcolor('cyan')  #trus warna bagian dalem gelasnya biru muda\n",
    "    t.begin_fill()\n",
    "\n",
    "# forward-left ini arah dari pena. Forward itu bikin garisnya maju lurus ke depan, left \n",
    "# artinya gambar garisnya bakal belok ke kiri. pen up itu dia bikin tinta pena ilang. Angka 90 \n",
    "# di dalem kurung itu sudut beloknya\n",
    "    t.forward((h2+x+z2)/2) \n",
    "    t.left(90)\n",
    "    t.forward(z2/2)\n",
    "    t.write(\" \"+ str(z) + \"m\")\n",
    "    t.forward(z2/2)\n",
    "    t.right(90)\n",
    "    t.forward(x)\n",
    "    t.penup()\n",
    "\n",
    "# ini perulangan buat lengkungan air (yang bagian bawahnya) \n",
    "    for i in range(90):\n",
    "        t.forward(1)\n",
    "        t.right(1)\n",
    "\n",
    "    t.forward(1)\n",
    "    t.forward(z2/2)\n",
    "    t.left(90)\n",
    "    t.forward(x)\n",
    "    t.left(90)\n",
    "    t.forward(z2/2)\n",
    "    t.forward(x)"
   ]
  }
 ],
 "metadata": {
  "kernelspec": {
   "display_name": "Python 3.10.6 64-bit",
   "language": "python",
   "name": "python3"
  },
  "language_info": {
   "codemirror_mode": {
    "name": "ipython",
    "version": 3
   },
   "file_extension": ".py",
   "mimetype": "text/x-python",
   "name": "python",
   "nbconvert_exporter": "python",
   "pygments_lexer": "ipython3",
   "version": "3.10.6"
  },
  "orig_nbformat": 4,
  "vscode": {
   "interpreter": {
    "hash": "213524bb45a1aeaf737b1d8c77d7b8db5d425938d9dffc5f4bc6fe6dd3324700"
   }
  }
 },
 "nbformat": 4,
 "nbformat_minor": 2
}
